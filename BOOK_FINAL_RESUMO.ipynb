{
 "cells": [
  {
   "cell_type": "markdown",
   "metadata": {},
   "source": [
    "## Importar bibliotecas e dataset"
   ]
  },
  {
   "cell_type": "code",
   "execution_count": 1,
   "metadata": {
    "ExecuteTime": {
     "end_time": "2021-04-24T14:07:11.437384Z",
     "start_time": "2021-04-24T14:06:51.226333Z"
    }
   },
   "outputs": [],
   "source": [
    "import pandas as pd \n",
    "from scipy.spatial.distance import pdist, squareform, cdist\n",
    "from sklearn.metrics import pairwise_distances"
   ]
  },
  {
   "cell_type": "markdown",
   "metadata": {
    "ExecuteTime": {
     "end_time": "2021-04-24T14:08:55.633263Z",
     "start_time": "2021-04-24T14:08:55.515410Z"
    }
   },
   "source": [
    "## Exploração "
   ]
  },
  {
   "cell_type": "markdown",
   "metadata": {},
   "source": [
    " Arquivo Lully não disponibilizado"
   ]
  },
  {
   "cell_type": "code",
   "execution_count": 2,
   "metadata": {
    "ExecuteTime": {
     "end_time": "2021-04-24T14:07:16.372830Z",
     "start_time": "2021-04-24T14:07:15.776629Z"
    }
   },
   "outputs": [],
   "source": [
    "df= pd.read_excel('Lully3.xls', 'Consolidado', index_col=None)"
   ]
  },
  {
   "cell_type": "code",
   "execution_count": 3,
   "metadata": {
    "ExecuteTime": {
     "end_time": "2021-04-24T14:07:18.338796Z",
     "start_time": "2021-04-24T14:07:18.277766Z"
    }
   },
   "outputs": [],
   "source": [
    "df1=df.loc[:,['Marca','Tipos de Produtos','Linha do Produto','Oleoso','Seco','Misto','Feminino','Masculino','Indiferente','Controlar a queda','Controlar o volume','Controle de Caspa','Definir cachos e crespos','Reduzir Frizz','Custo Acessivel','Custo Medio','Custo Premium', 'vegana']]"
   ]
  },
  {
   "cell_type": "markdown",
   "metadata": {},
   "source": [
    "## Tratamento e classificação "
   ]
  },
  {
   "cell_type": "code",
   "execution_count": 4,
   "metadata": {
    "ExecuteTime": {
     "end_time": "2021-04-24T14:07:20.487369Z",
     "start_time": "2021-04-24T14:07:20.471377Z"
    }
   },
   "outputs": [],
   "source": [
    "tradutor={\"S\":1, \"N\":0, \"T\":0.5}\n",
    "def tradutor2(row):\n",
    "    if row==\"S\":\n",
    "        return 1\n",
    "    elif row == \"N\":\n",
    "        return 0\n",
    "    elif row == \"T\":\n",
    "        return 0.5\n",
    "    else :\n",
    "        return row"
   ]
  },
  {
   "cell_type": "code",
   "execution_count": 5,
   "metadata": {
    "ExecuteTime": {
     "end_time": "2021-04-24T14:07:22.705668Z",
     "start_time": "2021-04-24T14:07:22.640020Z"
    }
   },
   "outputs": [
    {
     "data": {
      "text/plain": [
       "Marca                                        DOVE\n",
       "Tipos de Produtos                        SH/CO/CP\n",
       "Linha do Produto            Reconstrução Completa\n",
       "Oleoso                                          1\n",
       "Seco                                            1\n",
       "Misto                                           1\n",
       "Feminino                                        1\n",
       "Masculino                                     0.5\n",
       "Indiferente                                     1\n",
       "Controlar a queda                             0.5\n",
       "Controlar o volume                            0.5\n",
       "Controle de Caspa                               0\n",
       "Definir cachos e crespos                        0\n",
       "Reduzir Frizz                                   1\n",
       "Custo Acessivel                               0.5\n",
       "Custo Medio                                     1\n",
       "Custo Premium                                   0\n",
       "vegana                                          0\n",
       "Name: 0, dtype: object"
      ]
     },
     "execution_count": 5,
     "metadata": {},
     "output_type": "execute_result"
    }
   ],
   "source": [
    "df2= df1.applymap(tradutor2)\n",
    "df2.iloc[0]"
   ]
  },
  {
   "cell_type": "markdown",
   "metadata": {},
   "source": [
    "## Limpeza "
   ]
  },
  {
   "cell_type": "code",
   "execution_count": 6,
   "metadata": {
    "ExecuteTime": {
     "end_time": "2021-04-24T14:07:30.336300Z",
     "start_time": "2021-04-24T14:07:30.317472Z"
    }
   },
   "outputs": [],
   "source": [
    "df3=df2.drop(['Marca','Tipos de Produtos','Linha do Produto'], axis=1)"
   ]
  },
  {
   "cell_type": "markdown",
   "metadata": {},
   "source": [
    "## Exploração "
   ]
  },
  {
   "cell_type": "code",
   "execution_count": 7,
   "metadata": {
    "ExecuteTime": {
     "end_time": "2021-04-24T14:07:32.754014Z",
     "start_time": "2021-04-24T14:07:32.630170Z"
    }
   },
   "outputs": [
    {
     "data": {
      "text/html": [
       "<div>\n",
       "<style scoped>\n",
       "    .dataframe tbody tr th:only-of-type {\n",
       "        vertical-align: middle;\n",
       "    }\n",
       "\n",
       "    .dataframe tbody tr th {\n",
       "        vertical-align: top;\n",
       "    }\n",
       "\n",
       "    .dataframe thead th {\n",
       "        text-align: right;\n",
       "    }\n",
       "</style>\n",
       "<table border=\"1\" class=\"dataframe\">\n",
       "  <thead>\n",
       "    <tr style=\"text-align: right;\">\n",
       "      <th></th>\n",
       "      <th>Oleoso</th>\n",
       "      <th>Seco</th>\n",
       "      <th>Misto</th>\n",
       "      <th>Feminino</th>\n",
       "      <th>Masculino</th>\n",
       "      <th>Indiferente</th>\n",
       "      <th>Controlar a queda</th>\n",
       "      <th>Controlar o volume</th>\n",
       "      <th>Controle de Caspa</th>\n",
       "      <th>Definir cachos e crespos</th>\n",
       "      <th>Reduzir Frizz</th>\n",
       "      <th>Custo Acessivel</th>\n",
       "      <th>Custo Medio</th>\n",
       "      <th>Custo Premium</th>\n",
       "      <th>vegana</th>\n",
       "    </tr>\n",
       "  </thead>\n",
       "  <tbody>\n",
       "    <tr>\n",
       "      <th>0</th>\n",
       "      <td>1.0</td>\n",
       "      <td>1.0</td>\n",
       "      <td>1.0</td>\n",
       "      <td>1.0</td>\n",
       "      <td>0.5</td>\n",
       "      <td>1</td>\n",
       "      <td>0.5</td>\n",
       "      <td>0.5</td>\n",
       "      <td>0.0</td>\n",
       "      <td>0.0</td>\n",
       "      <td>1.0</td>\n",
       "      <td>0.5</td>\n",
       "      <td>1.0</td>\n",
       "      <td>0.0</td>\n",
       "      <td>0</td>\n",
       "    </tr>\n",
       "    <tr>\n",
       "      <th>1</th>\n",
       "      <td>1.0</td>\n",
       "      <td>1.0</td>\n",
       "      <td>1.0</td>\n",
       "      <td>1.0</td>\n",
       "      <td>0.5</td>\n",
       "      <td>1</td>\n",
       "      <td>0.5</td>\n",
       "      <td>0.5</td>\n",
       "      <td>0.0</td>\n",
       "      <td>0.0</td>\n",
       "      <td>1.0</td>\n",
       "      <td>0.5</td>\n",
       "      <td>1.0</td>\n",
       "      <td>0.0</td>\n",
       "      <td>0</td>\n",
       "    </tr>\n",
       "    <tr>\n",
       "      <th>2</th>\n",
       "      <td>0.0</td>\n",
       "      <td>1.0</td>\n",
       "      <td>0.5</td>\n",
       "      <td>1.0</td>\n",
       "      <td>0.5</td>\n",
       "      <td>1</td>\n",
       "      <td>0.0</td>\n",
       "      <td>0.5</td>\n",
       "      <td>0.0</td>\n",
       "      <td>0.0</td>\n",
       "      <td>1.0</td>\n",
       "      <td>0.5</td>\n",
       "      <td>1.0</td>\n",
       "      <td>0.0</td>\n",
       "      <td>0</td>\n",
       "    </tr>\n",
       "    <tr>\n",
       "      <th>3</th>\n",
       "      <td>1.0</td>\n",
       "      <td>1.0</td>\n",
       "      <td>1.0</td>\n",
       "      <td>1.0</td>\n",
       "      <td>0.5</td>\n",
       "      <td>1</td>\n",
       "      <td>1.0</td>\n",
       "      <td>0.5</td>\n",
       "      <td>0.0</td>\n",
       "      <td>0.0</td>\n",
       "      <td>0.5</td>\n",
       "      <td>0.5</td>\n",
       "      <td>1.0</td>\n",
       "      <td>0.0</td>\n",
       "      <td>0</td>\n",
       "    </tr>\n",
       "    <tr>\n",
       "      <th>4</th>\n",
       "      <td>0.5</td>\n",
       "      <td>1.0</td>\n",
       "      <td>1.0</td>\n",
       "      <td>1.0</td>\n",
       "      <td>0.5</td>\n",
       "      <td>1</td>\n",
       "      <td>0.0</td>\n",
       "      <td>1.0</td>\n",
       "      <td>0.0</td>\n",
       "      <td>1.0</td>\n",
       "      <td>1.0</td>\n",
       "      <td>0.5</td>\n",
       "      <td>1.0</td>\n",
       "      <td>0.0</td>\n",
       "      <td>0</td>\n",
       "    </tr>\n",
       "    <tr>\n",
       "      <th>...</th>\n",
       "      <td>...</td>\n",
       "      <td>...</td>\n",
       "      <td>...</td>\n",
       "      <td>...</td>\n",
       "      <td>...</td>\n",
       "      <td>...</td>\n",
       "      <td>...</td>\n",
       "      <td>...</td>\n",
       "      <td>...</td>\n",
       "      <td>...</td>\n",
       "      <td>...</td>\n",
       "      <td>...</td>\n",
       "      <td>...</td>\n",
       "      <td>...</td>\n",
       "      <td>...</td>\n",
       "    </tr>\n",
       "    <tr>\n",
       "      <th>125</th>\n",
       "      <td>0.5</td>\n",
       "      <td>1.0</td>\n",
       "      <td>1.0</td>\n",
       "      <td>1.0</td>\n",
       "      <td>0.5</td>\n",
       "      <td>1</td>\n",
       "      <td>0.5</td>\n",
       "      <td>1.0</td>\n",
       "      <td>0.0</td>\n",
       "      <td>0.5</td>\n",
       "      <td>0.5</td>\n",
       "      <td>0.0</td>\n",
       "      <td>1.0</td>\n",
       "      <td>0.5</td>\n",
       "      <td>0</td>\n",
       "    </tr>\n",
       "    <tr>\n",
       "      <th>126</th>\n",
       "      <td>0.5</td>\n",
       "      <td>1.0</td>\n",
       "      <td>1.0</td>\n",
       "      <td>1.0</td>\n",
       "      <td>0.5</td>\n",
       "      <td>1</td>\n",
       "      <td>1.0</td>\n",
       "      <td>0.0</td>\n",
       "      <td>0.0</td>\n",
       "      <td>0.5</td>\n",
       "      <td>0.5</td>\n",
       "      <td>0.0</td>\n",
       "      <td>1.0</td>\n",
       "      <td>0.5</td>\n",
       "      <td>0</td>\n",
       "    </tr>\n",
       "    <tr>\n",
       "      <th>127</th>\n",
       "      <td>0.5</td>\n",
       "      <td>1.0</td>\n",
       "      <td>1.0</td>\n",
       "      <td>1.0</td>\n",
       "      <td>0.5</td>\n",
       "      <td>1</td>\n",
       "      <td>0.5</td>\n",
       "      <td>1.0</td>\n",
       "      <td>0.0</td>\n",
       "      <td>1.0</td>\n",
       "      <td>0.5</td>\n",
       "      <td>0.0</td>\n",
       "      <td>1.0</td>\n",
       "      <td>0.5</td>\n",
       "      <td>0</td>\n",
       "    </tr>\n",
       "    <tr>\n",
       "      <th>128</th>\n",
       "      <td>0.5</td>\n",
       "      <td>1.0</td>\n",
       "      <td>1.0</td>\n",
       "      <td>1.0</td>\n",
       "      <td>0.5</td>\n",
       "      <td>1</td>\n",
       "      <td>0.5</td>\n",
       "      <td>1.0</td>\n",
       "      <td>0.0</td>\n",
       "      <td>1.0</td>\n",
       "      <td>1.0</td>\n",
       "      <td>0.0</td>\n",
       "      <td>1.0</td>\n",
       "      <td>0.5</td>\n",
       "      <td>0</td>\n",
       "    </tr>\n",
       "    <tr>\n",
       "      <th>129</th>\n",
       "      <td>0.5</td>\n",
       "      <td>1.0</td>\n",
       "      <td>1.0</td>\n",
       "      <td>1.0</td>\n",
       "      <td>0.5</td>\n",
       "      <td>1</td>\n",
       "      <td>1.0</td>\n",
       "      <td>0.0</td>\n",
       "      <td>0.0</td>\n",
       "      <td>0.5</td>\n",
       "      <td>0.5</td>\n",
       "      <td>0.0</td>\n",
       "      <td>1.0</td>\n",
       "      <td>0.5</td>\n",
       "      <td>0</td>\n",
       "    </tr>\n",
       "  </tbody>\n",
       "</table>\n",
       "<p>130 rows × 15 columns</p>\n",
       "</div>"
      ],
      "text/plain": [
       "     Oleoso  Seco  Misto  Feminino  Masculino  Indiferente  Controlar a queda  \\\n",
       "0       1.0   1.0    1.0       1.0        0.5            1                0.5   \n",
       "1       1.0   1.0    1.0       1.0        0.5            1                0.5   \n",
       "2       0.0   1.0    0.5       1.0        0.5            1                0.0   \n",
       "3       1.0   1.0    1.0       1.0        0.5            1                1.0   \n",
       "4       0.5   1.0    1.0       1.0        0.5            1                0.0   \n",
       "..      ...   ...    ...       ...        ...          ...                ...   \n",
       "125     0.5   1.0    1.0       1.0        0.5            1                0.5   \n",
       "126     0.5   1.0    1.0       1.0        0.5            1                1.0   \n",
       "127     0.5   1.0    1.0       1.0        0.5            1                0.5   \n",
       "128     0.5   1.0    1.0       1.0        0.5            1                0.5   \n",
       "129     0.5   1.0    1.0       1.0        0.5            1                1.0   \n",
       "\n",
       "     Controlar o volume  Controle de Caspa  Definir cachos e crespos  \\\n",
       "0                   0.5                0.0                       0.0   \n",
       "1                   0.5                0.0                       0.0   \n",
       "2                   0.5                0.0                       0.0   \n",
       "3                   0.5                0.0                       0.0   \n",
       "4                   1.0                0.0                       1.0   \n",
       "..                  ...                ...                       ...   \n",
       "125                 1.0                0.0                       0.5   \n",
       "126                 0.0                0.0                       0.5   \n",
       "127                 1.0                0.0                       1.0   \n",
       "128                 1.0                0.0                       1.0   \n",
       "129                 0.0                0.0                       0.5   \n",
       "\n",
       "     Reduzir Frizz  Custo Acessivel  Custo Medio  Custo Premium  vegana  \n",
       "0              1.0              0.5          1.0            0.0       0  \n",
       "1              1.0              0.5          1.0            0.0       0  \n",
       "2              1.0              0.5          1.0            0.0       0  \n",
       "3              0.5              0.5          1.0            0.0       0  \n",
       "4              1.0              0.5          1.0            0.0       0  \n",
       "..             ...              ...          ...            ...     ...  \n",
       "125            0.5              0.0          1.0            0.5       0  \n",
       "126            0.5              0.0          1.0            0.5       0  \n",
       "127            0.5              0.0          1.0            0.5       0  \n",
       "128            1.0              0.0          1.0            0.5       0  \n",
       "129            0.5              0.0          1.0            0.5       0  \n",
       "\n",
       "[130 rows x 15 columns]"
      ]
     },
     "execution_count": 7,
     "metadata": {},
     "output_type": "execute_result"
    }
   ],
   "source": [
    "df3"
   ]
  },
  {
   "cell_type": "markdown",
   "metadata": {},
   "source": [
    "## Novo dataset"
   ]
  },
  {
   "cell_type": "code",
   "execution_count": 8,
   "metadata": {
    "ExecuteTime": {
     "end_time": "2021-04-24T14:07:40.268126Z",
     "start_time": "2021-04-24T14:07:40.189432Z"
    }
   },
   "outputs": [],
   "source": [
    "df3.to_csv('lully_resumo.csv', index=False)\n"
   ]
  },
  {
   "cell_type": "markdown",
   "metadata": {},
   "source": [
    "## Index "
   ]
  },
  {
   "cell_type": "code",
   "execution_count": 9,
   "metadata": {
    "ExecuteTime": {
     "end_time": "2021-04-24T14:07:44.008892Z",
     "start_time": "2021-04-24T14:07:43.615213Z"
    }
   },
   "outputs": [
    {
     "data": {
      "text/plain": [
       "0      DOVE SH/CO/CP Reconstrução Completa\n",
       "1           DOVE SH/CO Regeneração Extrema\n",
       "2            DOVE SH/CO/CP \\nOleo Nutrição\n",
       "3                 DOVE SH/CO Queda Control\n",
       "4               DOVE SH/CO/CP Ultra Cachos\n",
       "                      ...                 \n",
       "125           Força Vitamina CF Brilho\\nCF\n",
       "126     Força Vitamina CF Fortificante\\nCF\n",
       "127       Força Vitamina CF Hidratante\\nCF\n",
       "128        Força Vitamina CF Nutritiva\\nCF\n",
       "129     Força Vitamina CF Regeneradora\\nCF\n",
       "Length: 130, dtype: object"
      ]
     },
     "execution_count": 9,
     "metadata": {},
     "output_type": "execute_result"
    }
   ],
   "source": [
    "df_index=df['Marca']+\" \"+df['Tipos de Produtos']+\" \"+df['Linha do Produto']\n",
    "df_index"
   ]
  },
  {
   "cell_type": "code",
   "execution_count": 58,
   "metadata": {
    "ExecuteTime": {
     "end_time": "2021-04-21T00:25:17.848400Z",
     "start_time": "2021-04-21T00:25:17.810403Z"
    }
   },
   "outputs": [
    {
     "data": {
      "text/plain": [
       "0      DOVE SH/CO/CP Reconstrução Completa\n",
       "1           DOVE SH/CO Regeneração Extrema\n",
       "2            DOVE SH/CO/CP \\nOleo Nutrição\n",
       "3                 DOVE SH/CO Queda Control\n",
       "4               DOVE SH/CO/CP Ultra Cachos\n",
       "                      ...                 \n",
       "125           Força Vitamina CF Brilho\\nCF\n",
       "126     Força Vitamina CF Fortificante\\nCF\n",
       "127       Força Vitamina CF Hidratante\\nCF\n",
       "128        Força Vitamina CF Nutritiva\\nCF\n",
       "129     Força Vitamina CF Regeneradora\\nCF\n",
       "Length: 130, dtype: object"
      ]
     },
     "execution_count": 58,
     "metadata": {},
     "output_type": "execute_result"
    }
   ],
   "source": [
    "df_index.to_csv('df_index.csv')\n",
    "df_index"
   ]
  },
  {
   "cell_type": "code",
   "execution_count": null,
   "metadata": {},
   "outputs": [],
   "source": []
  }
 ],
 "metadata": {
  "kernelspec": {
   "display_name": "Python 3",
   "language": "python",
   "name": "python3"
  },
  "language_info": {
   "codemirror_mode": {
    "name": "ipython",
    "version": 3
   },
   "file_extension": ".py",
   "mimetype": "text/x-python",
   "name": "python",
   "nbconvert_exporter": "python",
   "pygments_lexer": "ipython3",
   "version": "3.8.3"
  },
  "toc": {
   "base_numbering": 1,
   "nav_menu": {},
   "number_sections": true,
   "sideBar": true,
   "skip_h1_title": false,
   "title_cell": "Table of Contents",
   "title_sidebar": "Contents",
   "toc_cell": false,
   "toc_position": {},
   "toc_section_display": true,
   "toc_window_display": false
  },
  "varInspector": {
   "cols": {
    "lenName": 16,
    "lenType": 16,
    "lenVar": 40
   },
   "kernels_config": {
    "python": {
     "delete_cmd_postfix": "",
     "delete_cmd_prefix": "del ",
     "library": "var_list.py",
     "varRefreshCmd": "print(var_dic_list())"
    },
    "r": {
     "delete_cmd_postfix": ") ",
     "delete_cmd_prefix": "rm(",
     "library": "var_list.r",
     "varRefreshCmd": "cat(var_dic_list()) "
    }
   },
   "types_to_exclude": [
    "module",
    "function",
    "builtin_function_or_method",
    "instance",
    "_Feature"
   ],
   "window_display": false
  }
 },
 "nbformat": 4,
 "nbformat_minor": 4
}
