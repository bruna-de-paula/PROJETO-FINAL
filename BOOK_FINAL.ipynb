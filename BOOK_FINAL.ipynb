{
 "cells": [
  {
   "cell_type": "markdown",
   "metadata": {},
   "source": [
    " PROJETO FINAL"
   ]
  },
  {
   "cell_type": "markdown",
   "metadata": {},
   "source": [
    "# Importar bibliotecas e dataset"
   ]
  },
  {
   "cell_type": "code",
   "execution_count": 1,
   "metadata": {
    "ExecuteTime": {
     "end_time": "2021-04-20T00:53:34.348992Z",
     "start_time": "2021-04-20T00:53:25.560535Z"
    }
   },
   "outputs": [],
   "source": [
    "import pandas as pd \n",
    "from scipy.spatial.distance import pdist, squareform, cdist\n",
    "from sklearn.metrics import pairwise_distances"
   ]
  },
  {
   "cell_type": "code",
   "execution_count": 7,
   "metadata": {
    "ExecuteTime": {
     "end_time": "2021-04-20T01:09:15.773451Z",
     "start_time": "2021-04-20T01:09:15.588095Z"
    }
   },
   "outputs": [],
   "source": [
    "df= pd.read_excel('lully3.xls', 'Consolidado', index_col=None)"
   ]
  },
  {
   "cell_type": "markdown",
   "metadata": {},
   "source": [
    "## Exploração"
   ]
  },
  {
   "cell_type": "markdown",
   "metadata": {},
   "source": [
    "Arquivo Lully não disponibilizado"
   ]
  },
  {
   "cell_type": "code",
   "execution_count": 8,
   "metadata": {
    "ExecuteTime": {
     "end_time": "2021-04-20T01:09:17.543178Z",
     "start_time": "2021-04-20T01:09:17.403052Z"
    },
    "scrolled": true
   },
   "outputs": [
    {
     "data": {
      "text/html": [
       "<div>\n",
       "<style scoped>\n",
       "    .dataframe tbody tr th:only-of-type {\n",
       "        vertical-align: middle;\n",
       "    }\n",
       "\n",
       "    .dataframe tbody tr th {\n",
       "        vertical-align: top;\n",
       "    }\n",
       "\n",
       "    .dataframe thead th {\n",
       "        text-align: right;\n",
       "    }\n",
       "</style>\n",
       "<table border=\"1\" class=\"dataframe\">\n",
       "  <thead>\n",
       "    <tr style=\"text-align: right;\">\n",
       "      <th></th>\n",
       "      <th>Marca</th>\n",
       "      <th>Tipos de Produtos</th>\n",
       "      <th>Linha do Produto</th>\n",
       "      <th>Oleoso</th>\n",
       "      <th>Seco</th>\n",
       "      <th>Oleosidade Adequada</th>\n",
       "      <th>Misto</th>\n",
       "      <th>Feminino</th>\n",
       "      <th>Masculino</th>\n",
       "      <th>Indiferente</th>\n",
       "      <th>...</th>\n",
       "      <th>Chapinha</th>\n",
       "      <th>Modelador de cachos</th>\n",
       "      <th>Secador</th>\n",
       "      <th>Aplique/Extensão</th>\n",
       "      <th>Praia/Sol/Piscina</th>\n",
       "      <th>Nenhuma das anteriores</th>\n",
       "      <th>1</th>\n",
       "      <th>2A/2B/2C</th>\n",
       "      <th>3A/3B/3C</th>\n",
       "      <th>4A/4B/4C</th>\n",
       "    </tr>\n",
       "  </thead>\n",
       "  <tbody>\n",
       "    <tr>\n",
       "      <th>0</th>\n",
       "      <td>TEST</td>\n",
       "      <td>TEST</td>\n",
       "      <td>TEST</td>\n",
       "      <td>N</td>\n",
       "      <td>S</td>\n",
       "      <td>T</td>\n",
       "      <td>T</td>\n",
       "      <td>S</td>\n",
       "      <td>T</td>\n",
       "      <td>S</td>\n",
       "      <td>...</td>\n",
       "      <td>S</td>\n",
       "      <td>S</td>\n",
       "      <td>S</td>\n",
       "      <td>N</td>\n",
       "      <td>T</td>\n",
       "      <td>S</td>\n",
       "      <td>S</td>\n",
       "      <td>S</td>\n",
       "      <td>S</td>\n",
       "      <td>S</td>\n",
       "    </tr>\n",
       "    <tr>\n",
       "      <th>1</th>\n",
       "      <td>DOVE</td>\n",
       "      <td>SH/CO/CP</td>\n",
       "      <td>Reconstrução Completa</td>\n",
       "      <td>S</td>\n",
       "      <td>S</td>\n",
       "      <td>S</td>\n",
       "      <td>S</td>\n",
       "      <td>S</td>\n",
       "      <td>T</td>\n",
       "      <td>S</td>\n",
       "      <td>...</td>\n",
       "      <td>S</td>\n",
       "      <td>S</td>\n",
       "      <td>S</td>\n",
       "      <td>S</td>\n",
       "      <td>S</td>\n",
       "      <td>N</td>\n",
       "      <td>S</td>\n",
       "      <td>S</td>\n",
       "      <td>S</td>\n",
       "      <td>S</td>\n",
       "    </tr>\n",
       "    <tr>\n",
       "      <th>2</th>\n",
       "      <td>DOVE</td>\n",
       "      <td>SH/CO</td>\n",
       "      <td>Regeneração Extrema</td>\n",
       "      <td>S</td>\n",
       "      <td>S</td>\n",
       "      <td>S</td>\n",
       "      <td>S</td>\n",
       "      <td>S</td>\n",
       "      <td>T</td>\n",
       "      <td>S</td>\n",
       "      <td>...</td>\n",
       "      <td>S</td>\n",
       "      <td>S</td>\n",
       "      <td>S</td>\n",
       "      <td>S</td>\n",
       "      <td>S</td>\n",
       "      <td>N</td>\n",
       "      <td>S</td>\n",
       "      <td>S</td>\n",
       "      <td>S</td>\n",
       "      <td>S</td>\n",
       "    </tr>\n",
       "    <tr>\n",
       "      <th>3</th>\n",
       "      <td>DOVE</td>\n",
       "      <td>SH/CO/CP</td>\n",
       "      <td>\\nOleo Nutrição</td>\n",
       "      <td>N</td>\n",
       "      <td>S</td>\n",
       "      <td>T</td>\n",
       "      <td>T</td>\n",
       "      <td>S</td>\n",
       "      <td>T</td>\n",
       "      <td>S</td>\n",
       "      <td>...</td>\n",
       "      <td>S</td>\n",
       "      <td>S</td>\n",
       "      <td>S</td>\n",
       "      <td>N</td>\n",
       "      <td>T</td>\n",
       "      <td>S</td>\n",
       "      <td>S</td>\n",
       "      <td>S</td>\n",
       "      <td>S</td>\n",
       "      <td>S</td>\n",
       "    </tr>\n",
       "    <tr>\n",
       "      <th>4</th>\n",
       "      <td>DOVE</td>\n",
       "      <td>SH/CO</td>\n",
       "      <td>Queda Control</td>\n",
       "      <td>S</td>\n",
       "      <td>S</td>\n",
       "      <td>S</td>\n",
       "      <td>S</td>\n",
       "      <td>S</td>\n",
       "      <td>T</td>\n",
       "      <td>S</td>\n",
       "      <td>...</td>\n",
       "      <td>T</td>\n",
       "      <td>S</td>\n",
       "      <td>T</td>\n",
       "      <td>S</td>\n",
       "      <td>T</td>\n",
       "      <td>N</td>\n",
       "      <td>S</td>\n",
       "      <td>S</td>\n",
       "      <td>S</td>\n",
       "      <td>S</td>\n",
       "    </tr>\n",
       "    <tr>\n",
       "      <th>...</th>\n",
       "      <td>...</td>\n",
       "      <td>...</td>\n",
       "      <td>...</td>\n",
       "      <td>...</td>\n",
       "      <td>...</td>\n",
       "      <td>...</td>\n",
       "      <td>...</td>\n",
       "      <td>...</td>\n",
       "      <td>...</td>\n",
       "      <td>...</td>\n",
       "      <td>...</td>\n",
       "      <td>...</td>\n",
       "      <td>...</td>\n",
       "      <td>...</td>\n",
       "      <td>...</td>\n",
       "      <td>...</td>\n",
       "      <td>...</td>\n",
       "      <td>...</td>\n",
       "      <td>...</td>\n",
       "      <td>...</td>\n",
       "      <td>...</td>\n",
       "    </tr>\n",
       "    <tr>\n",
       "      <th>125</th>\n",
       "      <td>Força Vitamina</td>\n",
       "      <td>SH/CO/CT</td>\n",
       "      <td>Lisos</td>\n",
       "      <td>S</td>\n",
       "      <td>S</td>\n",
       "      <td>S</td>\n",
       "      <td>S</td>\n",
       "      <td>S</td>\n",
       "      <td>T</td>\n",
       "      <td>S</td>\n",
       "      <td>...</td>\n",
       "      <td>S</td>\n",
       "      <td>S</td>\n",
       "      <td>S</td>\n",
       "      <td>S</td>\n",
       "      <td>S</td>\n",
       "      <td>S</td>\n",
       "      <td>S</td>\n",
       "      <td>N</td>\n",
       "      <td>N</td>\n",
       "      <td>N</td>\n",
       "    </tr>\n",
       "    <tr>\n",
       "      <th>126</th>\n",
       "      <td>Força Vitamina</td>\n",
       "      <td>CF</td>\n",
       "      <td>Brilho\\nCF</td>\n",
       "      <td>T</td>\n",
       "      <td>S</td>\n",
       "      <td>S</td>\n",
       "      <td>S</td>\n",
       "      <td>S</td>\n",
       "      <td>T</td>\n",
       "      <td>S</td>\n",
       "      <td>...</td>\n",
       "      <td>T</td>\n",
       "      <td>T</td>\n",
       "      <td>T</td>\n",
       "      <td>S</td>\n",
       "      <td>S</td>\n",
       "      <td>S</td>\n",
       "      <td>S</td>\n",
       "      <td>S</td>\n",
       "      <td>S</td>\n",
       "      <td>S</td>\n",
       "    </tr>\n",
       "    <tr>\n",
       "      <th>127</th>\n",
       "      <td>Força Vitamina</td>\n",
       "      <td>CF</td>\n",
       "      <td>Fortificante\\nCF</td>\n",
       "      <td>T</td>\n",
       "      <td>S</td>\n",
       "      <td>S</td>\n",
       "      <td>S</td>\n",
       "      <td>S</td>\n",
       "      <td>T</td>\n",
       "      <td>S</td>\n",
       "      <td>...</td>\n",
       "      <td>S</td>\n",
       "      <td>S</td>\n",
       "      <td>S</td>\n",
       "      <td>T</td>\n",
       "      <td>S</td>\n",
       "      <td>N</td>\n",
       "      <td>S</td>\n",
       "      <td>S</td>\n",
       "      <td>S</td>\n",
       "      <td>S</td>\n",
       "    </tr>\n",
       "    <tr>\n",
       "      <th>128</th>\n",
       "      <td>Força Vitamina</td>\n",
       "      <td>CF</td>\n",
       "      <td>Hidratante\\nCF</td>\n",
       "      <td>T</td>\n",
       "      <td>S</td>\n",
       "      <td>S</td>\n",
       "      <td>S</td>\n",
       "      <td>S</td>\n",
       "      <td>T</td>\n",
       "      <td>S</td>\n",
       "      <td>...</td>\n",
       "      <td>T</td>\n",
       "      <td>T</td>\n",
       "      <td>T</td>\n",
       "      <td>S</td>\n",
       "      <td>S</td>\n",
       "      <td>S</td>\n",
       "      <td>S</td>\n",
       "      <td>S</td>\n",
       "      <td>S</td>\n",
       "      <td>S</td>\n",
       "    </tr>\n",
       "    <tr>\n",
       "      <th>129</th>\n",
       "      <td>Força Vitamina</td>\n",
       "      <td>CF</td>\n",
       "      <td>Nutritiva\\nCF</td>\n",
       "      <td>T</td>\n",
       "      <td>S</td>\n",
       "      <td>S</td>\n",
       "      <td>S</td>\n",
       "      <td>S</td>\n",
       "      <td>T</td>\n",
       "      <td>S</td>\n",
       "      <td>...</td>\n",
       "      <td>T</td>\n",
       "      <td>T</td>\n",
       "      <td>T</td>\n",
       "      <td>S</td>\n",
       "      <td>S</td>\n",
       "      <td>S</td>\n",
       "      <td>S</td>\n",
       "      <td>S</td>\n",
       "      <td>S</td>\n",
       "      <td>S</td>\n",
       "    </tr>\n",
       "  </tbody>\n",
       "</table>\n",
       "<p>130 rows × 55 columns</p>\n",
       "</div>"
      ],
      "text/plain": [
       "              Marca Tipos de Produtos       Linha do Produto Oleoso Seco  \\\n",
       "0              TEST              TEST                   TEST      N    S   \n",
       "1              DOVE          SH/CO/CP  Reconstrução Completa      S    S   \n",
       "2              DOVE             SH/CO    Regeneração Extrema      S    S   \n",
       "3              DOVE          SH/CO/CP        \\nOleo Nutrição      N    S   \n",
       "4              DOVE             SH/CO          Queda Control      S    S   \n",
       "..              ...               ...                    ...    ...  ...   \n",
       "125  Força Vitamina          SH/CO/CT                  Lisos      S    S   \n",
       "126  Força Vitamina                CF             Brilho\\nCF      T    S   \n",
       "127  Força Vitamina                CF       Fortificante\\nCF      T    S   \n",
       "128  Força Vitamina                CF         Hidratante\\nCF      T    S   \n",
       "129  Força Vitamina                CF          Nutritiva\\nCF      T    S   \n",
       "\n",
       "    Oleosidade Adequada Misto Feminino Masculino Indiferente  ... Chapinha  \\\n",
       "0                     T     T        S         T           S  ...        S   \n",
       "1                     S     S        S         T           S  ...        S   \n",
       "2                     S     S        S         T           S  ...        S   \n",
       "3                     T     T        S         T           S  ...        S   \n",
       "4                     S     S        S         T           S  ...        T   \n",
       "..                  ...   ...      ...       ...         ...  ...      ...   \n",
       "125                   S     S        S         T           S  ...        S   \n",
       "126                   S     S        S         T           S  ...        T   \n",
       "127                   S     S        S         T           S  ...        S   \n",
       "128                   S     S        S         T           S  ...        T   \n",
       "129                   S     S        S         T           S  ...        T   \n",
       "\n",
       "    Modelador de cachos Secador Aplique/Extensão Praia/Sol/Piscina  \\\n",
       "0                     S       S                N                 T   \n",
       "1                     S       S                S                 S   \n",
       "2                     S       S                S                 S   \n",
       "3                     S       S                N                 T   \n",
       "4                     S       T                S                 T   \n",
       "..                  ...     ...              ...               ...   \n",
       "125                   S       S                S                 S   \n",
       "126                   T       T                S                 S   \n",
       "127                   S       S                T                 S   \n",
       "128                   T       T                S                 S   \n",
       "129                   T       T                S                 S   \n",
       "\n",
       "    Nenhuma das anteriores  1 2A/2B/2C 3A/3B/3C 4A/4B/4C  \n",
       "0                        S  S        S        S        S  \n",
       "1                        N  S        S        S        S  \n",
       "2                        N  S        S        S        S  \n",
       "3                        S  S        S        S        S  \n",
       "4                        N  S        S        S        S  \n",
       "..                     ... ..      ...      ...      ...  \n",
       "125                      S  S        N        N        N  \n",
       "126                      S  S        S        S        S  \n",
       "127                      N  S        S        S        S  \n",
       "128                      S  S        S        S        S  \n",
       "129                      S  S        S        S        S  \n",
       "\n",
       "[130 rows x 55 columns]"
      ]
     },
     "execution_count": 8,
     "metadata": {},
     "output_type": "execute_result"
    }
   ],
   "source": [
    "df.head(130)"
   ]
  },
  {
   "cell_type": "code",
   "execution_count": 9,
   "metadata": {
    "ExecuteTime": {
     "end_time": "2021-04-20T01:09:22.708385Z",
     "start_time": "2021-04-20T01:09:22.645577Z"
    }
   },
   "outputs": [
    {
     "data": {
      "text/html": [
       "<div>\n",
       "<style scoped>\n",
       "    .dataframe tbody tr th:only-of-type {\n",
       "        vertical-align: middle;\n",
       "    }\n",
       "\n",
       "    .dataframe tbody tr th {\n",
       "        vertical-align: top;\n",
       "    }\n",
       "\n",
       "    .dataframe thead th {\n",
       "        text-align: right;\n",
       "    }\n",
       "</style>\n",
       "<table border=\"1\" class=\"dataframe\">\n",
       "  <thead>\n",
       "    <tr style=\"text-align: right;\">\n",
       "      <th></th>\n",
       "      <th>Marca</th>\n",
       "      <th>Tipos de Produtos</th>\n",
       "      <th>Linha do Produto</th>\n",
       "      <th>Oleoso</th>\n",
       "      <th>Seco</th>\n",
       "      <th>Oleosidade Adequada</th>\n",
       "      <th>Misto</th>\n",
       "      <th>Feminino</th>\n",
       "      <th>Masculino</th>\n",
       "      <th>Indiferente</th>\n",
       "      <th>...</th>\n",
       "      <th>Chapinha</th>\n",
       "      <th>Modelador de cachos</th>\n",
       "      <th>Secador</th>\n",
       "      <th>Aplique/Extensão</th>\n",
       "      <th>Praia/Sol/Piscina</th>\n",
       "      <th>Nenhuma das anteriores</th>\n",
       "      <th>1</th>\n",
       "      <th>2A/2B/2C</th>\n",
       "      <th>3A/3B/3C</th>\n",
       "      <th>4A/4B/4C</th>\n",
       "    </tr>\n",
       "  </thead>\n",
       "  <tbody>\n",
       "    <tr>\n",
       "      <th>0</th>\n",
       "      <td>False</td>\n",
       "      <td>False</td>\n",
       "      <td>False</td>\n",
       "      <td>False</td>\n",
       "      <td>False</td>\n",
       "      <td>False</td>\n",
       "      <td>False</td>\n",
       "      <td>False</td>\n",
       "      <td>False</td>\n",
       "      <td>False</td>\n",
       "      <td>...</td>\n",
       "      <td>False</td>\n",
       "      <td>False</td>\n",
       "      <td>False</td>\n",
       "      <td>False</td>\n",
       "      <td>False</td>\n",
       "      <td>False</td>\n",
       "      <td>False</td>\n",
       "      <td>False</td>\n",
       "      <td>False</td>\n",
       "      <td>False</td>\n",
       "    </tr>\n",
       "    <tr>\n",
       "      <th>1</th>\n",
       "      <td>False</td>\n",
       "      <td>False</td>\n",
       "      <td>False</td>\n",
       "      <td>False</td>\n",
       "      <td>False</td>\n",
       "      <td>False</td>\n",
       "      <td>False</td>\n",
       "      <td>False</td>\n",
       "      <td>False</td>\n",
       "      <td>False</td>\n",
       "      <td>...</td>\n",
       "      <td>False</td>\n",
       "      <td>False</td>\n",
       "      <td>False</td>\n",
       "      <td>False</td>\n",
       "      <td>False</td>\n",
       "      <td>False</td>\n",
       "      <td>False</td>\n",
       "      <td>False</td>\n",
       "      <td>False</td>\n",
       "      <td>False</td>\n",
       "    </tr>\n",
       "    <tr>\n",
       "      <th>2</th>\n",
       "      <td>False</td>\n",
       "      <td>False</td>\n",
       "      <td>False</td>\n",
       "      <td>False</td>\n",
       "      <td>False</td>\n",
       "      <td>False</td>\n",
       "      <td>False</td>\n",
       "      <td>False</td>\n",
       "      <td>False</td>\n",
       "      <td>False</td>\n",
       "      <td>...</td>\n",
       "      <td>False</td>\n",
       "      <td>False</td>\n",
       "      <td>False</td>\n",
       "      <td>False</td>\n",
       "      <td>False</td>\n",
       "      <td>False</td>\n",
       "      <td>False</td>\n",
       "      <td>False</td>\n",
       "      <td>False</td>\n",
       "      <td>False</td>\n",
       "    </tr>\n",
       "    <tr>\n",
       "      <th>3</th>\n",
       "      <td>False</td>\n",
       "      <td>False</td>\n",
       "      <td>False</td>\n",
       "      <td>False</td>\n",
       "      <td>False</td>\n",
       "      <td>False</td>\n",
       "      <td>False</td>\n",
       "      <td>False</td>\n",
       "      <td>False</td>\n",
       "      <td>False</td>\n",
       "      <td>...</td>\n",
       "      <td>False</td>\n",
       "      <td>False</td>\n",
       "      <td>False</td>\n",
       "      <td>False</td>\n",
       "      <td>False</td>\n",
       "      <td>False</td>\n",
       "      <td>False</td>\n",
       "      <td>False</td>\n",
       "      <td>False</td>\n",
       "      <td>False</td>\n",
       "    </tr>\n",
       "    <tr>\n",
       "      <th>4</th>\n",
       "      <td>False</td>\n",
       "      <td>False</td>\n",
       "      <td>False</td>\n",
       "      <td>False</td>\n",
       "      <td>False</td>\n",
       "      <td>False</td>\n",
       "      <td>False</td>\n",
       "      <td>False</td>\n",
       "      <td>False</td>\n",
       "      <td>False</td>\n",
       "      <td>...</td>\n",
       "      <td>False</td>\n",
       "      <td>False</td>\n",
       "      <td>False</td>\n",
       "      <td>False</td>\n",
       "      <td>False</td>\n",
       "      <td>False</td>\n",
       "      <td>False</td>\n",
       "      <td>False</td>\n",
       "      <td>False</td>\n",
       "      <td>False</td>\n",
       "    </tr>\n",
       "    <tr>\n",
       "      <th>...</th>\n",
       "      <td>...</td>\n",
       "      <td>...</td>\n",
       "      <td>...</td>\n",
       "      <td>...</td>\n",
       "      <td>...</td>\n",
       "      <td>...</td>\n",
       "      <td>...</td>\n",
       "      <td>...</td>\n",
       "      <td>...</td>\n",
       "      <td>...</td>\n",
       "      <td>...</td>\n",
       "      <td>...</td>\n",
       "      <td>...</td>\n",
       "      <td>...</td>\n",
       "      <td>...</td>\n",
       "      <td>...</td>\n",
       "      <td>...</td>\n",
       "      <td>...</td>\n",
       "      <td>...</td>\n",
       "      <td>...</td>\n",
       "      <td>...</td>\n",
       "    </tr>\n",
       "    <tr>\n",
       "      <th>126</th>\n",
       "      <td>False</td>\n",
       "      <td>False</td>\n",
       "      <td>False</td>\n",
       "      <td>False</td>\n",
       "      <td>False</td>\n",
       "      <td>False</td>\n",
       "      <td>False</td>\n",
       "      <td>False</td>\n",
       "      <td>False</td>\n",
       "      <td>False</td>\n",
       "      <td>...</td>\n",
       "      <td>False</td>\n",
       "      <td>False</td>\n",
       "      <td>False</td>\n",
       "      <td>False</td>\n",
       "      <td>False</td>\n",
       "      <td>False</td>\n",
       "      <td>False</td>\n",
       "      <td>False</td>\n",
       "      <td>False</td>\n",
       "      <td>False</td>\n",
       "    </tr>\n",
       "    <tr>\n",
       "      <th>127</th>\n",
       "      <td>False</td>\n",
       "      <td>False</td>\n",
       "      <td>False</td>\n",
       "      <td>False</td>\n",
       "      <td>False</td>\n",
       "      <td>False</td>\n",
       "      <td>False</td>\n",
       "      <td>False</td>\n",
       "      <td>False</td>\n",
       "      <td>False</td>\n",
       "      <td>...</td>\n",
       "      <td>False</td>\n",
       "      <td>False</td>\n",
       "      <td>False</td>\n",
       "      <td>False</td>\n",
       "      <td>False</td>\n",
       "      <td>False</td>\n",
       "      <td>False</td>\n",
       "      <td>False</td>\n",
       "      <td>False</td>\n",
       "      <td>False</td>\n",
       "    </tr>\n",
       "    <tr>\n",
       "      <th>128</th>\n",
       "      <td>False</td>\n",
       "      <td>False</td>\n",
       "      <td>False</td>\n",
       "      <td>False</td>\n",
       "      <td>False</td>\n",
       "      <td>False</td>\n",
       "      <td>False</td>\n",
       "      <td>False</td>\n",
       "      <td>False</td>\n",
       "      <td>False</td>\n",
       "      <td>...</td>\n",
       "      <td>False</td>\n",
       "      <td>False</td>\n",
       "      <td>False</td>\n",
       "      <td>False</td>\n",
       "      <td>False</td>\n",
       "      <td>False</td>\n",
       "      <td>False</td>\n",
       "      <td>False</td>\n",
       "      <td>False</td>\n",
       "      <td>False</td>\n",
       "    </tr>\n",
       "    <tr>\n",
       "      <th>129</th>\n",
       "      <td>False</td>\n",
       "      <td>False</td>\n",
       "      <td>False</td>\n",
       "      <td>False</td>\n",
       "      <td>False</td>\n",
       "      <td>False</td>\n",
       "      <td>False</td>\n",
       "      <td>False</td>\n",
       "      <td>False</td>\n",
       "      <td>False</td>\n",
       "      <td>...</td>\n",
       "      <td>False</td>\n",
       "      <td>False</td>\n",
       "      <td>False</td>\n",
       "      <td>False</td>\n",
       "      <td>False</td>\n",
       "      <td>False</td>\n",
       "      <td>False</td>\n",
       "      <td>False</td>\n",
       "      <td>False</td>\n",
       "      <td>False</td>\n",
       "    </tr>\n",
       "    <tr>\n",
       "      <th>130</th>\n",
       "      <td>False</td>\n",
       "      <td>False</td>\n",
       "      <td>False</td>\n",
       "      <td>False</td>\n",
       "      <td>False</td>\n",
       "      <td>False</td>\n",
       "      <td>False</td>\n",
       "      <td>False</td>\n",
       "      <td>False</td>\n",
       "      <td>False</td>\n",
       "      <td>...</td>\n",
       "      <td>False</td>\n",
       "      <td>False</td>\n",
       "      <td>False</td>\n",
       "      <td>False</td>\n",
       "      <td>False</td>\n",
       "      <td>False</td>\n",
       "      <td>False</td>\n",
       "      <td>False</td>\n",
       "      <td>False</td>\n",
       "      <td>False</td>\n",
       "    </tr>\n",
       "  </tbody>\n",
       "</table>\n",
       "<p>131 rows × 55 columns</p>\n",
       "</div>"
      ],
      "text/plain": [
       "     Marca  Tipos de Produtos  Linha do Produto  Oleoso   Seco  \\\n",
       "0    False              False             False   False  False   \n",
       "1    False              False             False   False  False   \n",
       "2    False              False             False   False  False   \n",
       "3    False              False             False   False  False   \n",
       "4    False              False             False   False  False   \n",
       "..     ...                ...               ...     ...    ...   \n",
       "126  False              False             False   False  False   \n",
       "127  False              False             False   False  False   \n",
       "128  False              False             False   False  False   \n",
       "129  False              False             False   False  False   \n",
       "130  False              False             False   False  False   \n",
       "\n",
       "     Oleosidade Adequada  Misto  Feminino  Masculino  Indiferente  ...  \\\n",
       "0                  False  False     False      False        False  ...   \n",
       "1                  False  False     False      False        False  ...   \n",
       "2                  False  False     False      False        False  ...   \n",
       "3                  False  False     False      False        False  ...   \n",
       "4                  False  False     False      False        False  ...   \n",
       "..                   ...    ...       ...        ...          ...  ...   \n",
       "126                False  False     False      False        False  ...   \n",
       "127                False  False     False      False        False  ...   \n",
       "128                False  False     False      False        False  ...   \n",
       "129                False  False     False      False        False  ...   \n",
       "130                False  False     False      False        False  ...   \n",
       "\n",
       "     Chapinha  Modelador de cachos  Secador  Aplique/Extensão  \\\n",
       "0       False                False    False             False   \n",
       "1       False                False    False             False   \n",
       "2       False                False    False             False   \n",
       "3       False                False    False             False   \n",
       "4       False                False    False             False   \n",
       "..        ...                  ...      ...               ...   \n",
       "126     False                False    False             False   \n",
       "127     False                False    False             False   \n",
       "128     False                False    False             False   \n",
       "129     False                False    False             False   \n",
       "130     False                False    False             False   \n",
       "\n",
       "     Praia/Sol/Piscina  Nenhuma das anteriores      1  2A/2B/2C  3A/3B/3C  \\\n",
       "0                False                   False  False     False     False   \n",
       "1                False                   False  False     False     False   \n",
       "2                False                   False  False     False     False   \n",
       "3                False                   False  False     False     False   \n",
       "4                False                   False  False     False     False   \n",
       "..                 ...                     ...    ...       ...       ...   \n",
       "126              False                   False  False     False     False   \n",
       "127              False                   False  False     False     False   \n",
       "128              False                   False  False     False     False   \n",
       "129              False                   False  False     False     False   \n",
       "130              False                   False  False     False     False   \n",
       "\n",
       "     4A/4B/4C  \n",
       "0       False  \n",
       "1       False  \n",
       "2       False  \n",
       "3       False  \n",
       "4       False  \n",
       "..        ...  \n",
       "126     False  \n",
       "127     False  \n",
       "128     False  \n",
       "129     False  \n",
       "130     False  \n",
       "\n",
       "[131 rows x 55 columns]"
      ]
     },
     "execution_count": 9,
     "metadata": {},
     "output_type": "execute_result"
    }
   ],
   "source": [
    "df.isnull()"
   ]
  },
  {
   "cell_type": "markdown",
   "metadata": {},
   "source": [
    "## Limpeza de dados"
   ]
  },
  {
   "cell_type": "code",
   "execution_count": 10,
   "metadata": {
    "ExecuteTime": {
     "end_time": "2021-04-20T01:09:24.423478Z",
     "start_time": "2021-04-20T01:09:24.379198Z"
    }
   },
   "outputs": [],
   "source": [
    "df1=df.drop(['Oleosidade Adequada', 'Nenhuma das anteriores'], axis=1, inplace=True)"
   ]
  },
  {
   "cell_type": "markdown",
   "metadata": {},
   "source": [
    "# Transformação de dados"
   ]
  },
  {
   "cell_type": "code",
   "execution_count": 11,
   "metadata": {
    "ExecuteTime": {
     "end_time": "2021-04-20T01:09:25.672554Z",
     "start_time": "2021-04-20T01:09:25.653565Z"
    }
   },
   "outputs": [],
   "source": [
    "df1=df.loc[:,['Marca','Tipos de Produtos','Linha do Produto','Oleoso','Seco','Misto','Feminino','Masculino','Indiferente','Controlar a queda','Custo Premium', 'Custo Medio','Custo Acessivel', 'vegana', 'Controlar o volume', 'cuidado do couro cabeludo','Mais Volume','Reduzir Frizz', 'Controle de Caspa', 'Desamarelar', 'Definir cachos e crespos',\n",
    "'liberada para no poo','Com alisamento', 'Cabelo preso o dia todo', 'Secador', 'Praia/Sol/Piscina', 'Chapinha', 'liberada para no poo','Com alisamento', 'Cabelo preso o dia todo', 'Secador', 'Praia/Sol/Piscina']]"
   ]
  },
  {
   "cell_type": "code",
   "execution_count": 12,
   "metadata": {
    "ExecuteTime": {
     "end_time": "2021-04-20T01:09:28.866041Z",
     "start_time": "2021-04-20T01:09:28.852051Z"
    }
   },
   "outputs": [],
   "source": [
    "tradutor={\"S\":1, \"N\":0, \"T\":0.5}"
   ]
  },
  {
   "cell_type": "code",
   "execution_count": 13,
   "metadata": {
    "ExecuteTime": {
     "end_time": "2021-04-20T01:09:29.801453Z",
     "start_time": "2021-04-20T01:09:29.788485Z"
    }
   },
   "outputs": [],
   "source": [
    "def tradutor2(row):\n",
    "    if row==\"S\":\n",
    "        return 1\n",
    "    elif row == \"N\":\n",
    "        return 0\n",
    "    elif row == \"T\":\n",
    "        return 0.5\n",
    "    else :\n",
    "        return row"
   ]
  },
  {
   "cell_type": "code",
   "execution_count": 14,
   "metadata": {
    "ExecuteTime": {
     "end_time": "2021-04-20T01:09:31.860635Z",
     "start_time": "2021-04-20T01:09:31.810665Z"
    }
   },
   "outputs": [
    {
     "data": {
      "text/plain": [
       "Marca                        TEST\n",
       "Tipos de Produtos            TEST\n",
       "Linha do Produto             TEST\n",
       "Oleoso                          0\n",
       "Seco                            1\n",
       "Misto                         0.5\n",
       "Feminino                        1\n",
       "Masculino                     0.5\n",
       "Indiferente                     1\n",
       "Controlar a queda               0\n",
       "Custo Premium                   0\n",
       "Custo Medio                     1\n",
       "Custo Acessivel               0.5\n",
       "vegana                          0\n",
       "Controlar o volume            0.5\n",
       "cuidado do couro cabeludo       0\n",
       "Mais Volume                     0\n",
       "Reduzir Frizz                   1\n",
       "Controle de Caspa               0\n",
       "Desamarelar                     0\n",
       "Definir cachos e crespos        0\n",
       "liberada para no poo            0\n",
       "Com alisamento                0.5\n",
       "Cabelo preso o dia todo       0.5\n",
       "Secador                         1\n",
       "Praia/Sol/Piscina             0.5\n",
       "Chapinha                        1\n",
       "liberada para no poo            0\n",
       "Com alisamento                0.5\n",
       "Cabelo preso o dia todo       0.5\n",
       "Secador                         1\n",
       "Praia/Sol/Piscina             0.5\n",
       "Name: 0, dtype: object"
      ]
     },
     "execution_count": 14,
     "metadata": {},
     "output_type": "execute_result"
    }
   ],
   "source": [
    "df2= df1.applymap(tradutor2)\n",
    "df2.iloc[0]"
   ]
  },
  {
   "cell_type": "markdown",
   "metadata": {},
   "source": [
    "# Agregar colunas / Index"
   ]
  },
  {
   "cell_type": "code",
   "execution_count": 17,
   "metadata": {
    "ExecuteTime": {
     "end_time": "2021-04-20T01:09:40.208608Z",
     "start_time": "2021-04-20T01:09:40.170113Z"
    }
   },
   "outputs": [],
   "source": [
    "df2=df2.drop(['Marca','Tipos de Produtos','Linha do Produto'], axis=1)"
   ]
  },
  {
   "cell_type": "code",
   "execution_count": 18,
   "metadata": {
    "ExecuteTime": {
     "end_time": "2021-04-20T01:09:43.230347Z",
     "start_time": "2021-04-20T01:09:42.922891Z"
    },
    "cell_style": "center"
   },
   "outputs": [],
   "source": [
    "df_index=df['Marca']+\" \"+df['Tipos de Produtos']+\" \"+df['Linha do Produto']"
   ]
  },
  {
   "cell_type": "code",
   "execution_count": 19,
   "metadata": {
    "ExecuteTime": {
     "end_time": "2021-04-20T01:09:45.807559Z",
     "start_time": "2021-04-20T01:09:45.792569Z"
    },
    "cell_style": "center"
   },
   "outputs": [
    {
     "data": {
      "text/plain": [
       "0                           TEST TEST TEST\n",
       "1      DOVE SH/CO/CP Reconstrução Completa\n",
       "2           DOVE SH/CO Regeneração Extrema\n",
       "3            DOVE SH/CO/CP \\nOleo Nutrição\n",
       "4                 DOVE SH/CO Queda Control\n",
       "                      ...                 \n",
       "126           Força Vitamina CF Brilho\\nCF\n",
       "127     Força Vitamina CF Fortificante\\nCF\n",
       "128       Força Vitamina CF Hidratante\\nCF\n",
       "129        Força Vitamina CF Nutritiva\\nCF\n",
       "130     Força Vitamina CF Regeneradora\\nCF\n",
       "Length: 131, dtype: object"
      ]
     },
     "execution_count": 19,
     "metadata": {},
     "output_type": "execute_result"
    }
   ],
   "source": [
    "df_index"
   ]
  },
  {
   "cell_type": "code",
   "execution_count": 20,
   "metadata": {
    "ExecuteTime": {
     "end_time": "2021-04-20T01:09:48.716044Z",
     "start_time": "2021-04-20T01:09:48.707051Z"
    }
   },
   "outputs": [
    {
     "data": {
      "text/plain": [
       "RangeIndex(start=0, stop=131, step=1)"
      ]
     },
     "execution_count": 20,
     "metadata": {},
     "output_type": "execute_result"
    }
   ],
   "source": [
    "df2.index"
   ]
  },
  {
   "cell_type": "markdown",
   "metadata": {},
   "source": [
    "# Teste vs \"usuário\" 0"
   ]
  },
  {
   "cell_type": "markdown",
   "metadata": {
    "ExecuteTime": {
     "end_time": "2021-04-09T02:22:06.115646Z",
     "start_time": "2021-04-09T02:22:06.110649Z"
    }
   },
   "source": [
    "Usuário 0 = recomendação para Dove Óleo Nutrição (índice 3)"
   ]
  },
  {
   "cell_type": "code",
   "execution_count": 21,
   "metadata": {
    "ExecuteTime": {
     "end_time": "2021-04-20T01:09:50.582823Z",
     "start_time": "2021-04-20T01:09:50.514864Z"
    }
   },
   "outputs": [
    {
     "data": {
      "text/html": [
       "<div>\n",
       "<style scoped>\n",
       "    .dataframe tbody tr th:only-of-type {\n",
       "        vertical-align: middle;\n",
       "    }\n",
       "\n",
       "    .dataframe tbody tr th {\n",
       "        vertical-align: top;\n",
       "    }\n",
       "\n",
       "    .dataframe thead th {\n",
       "        text-align: right;\n",
       "    }\n",
       "</style>\n",
       "<table border=\"1\" class=\"dataframe\">\n",
       "  <thead>\n",
       "    <tr style=\"text-align: right;\">\n",
       "      <th></th>\n",
       "      <th>Oleoso</th>\n",
       "      <th>Seco</th>\n",
       "      <th>Misto</th>\n",
       "      <th>Feminino</th>\n",
       "      <th>Masculino</th>\n",
       "      <th>Indiferente</th>\n",
       "      <th>Controlar a queda</th>\n",
       "      <th>Custo Premium</th>\n",
       "      <th>Custo Medio</th>\n",
       "      <th>Custo Acessivel</th>\n",
       "      <th>...</th>\n",
       "      <th>Com alisamento</th>\n",
       "      <th>Cabelo preso o dia todo</th>\n",
       "      <th>Secador</th>\n",
       "      <th>Praia/Sol/Piscina</th>\n",
       "      <th>Chapinha</th>\n",
       "      <th>liberada para no poo</th>\n",
       "      <th>Com alisamento</th>\n",
       "      <th>Cabelo preso o dia todo</th>\n",
       "      <th>Secador</th>\n",
       "      <th>Praia/Sol/Piscina</th>\n",
       "    </tr>\n",
       "  </thead>\n",
       "  <tbody>\n",
       "    <tr>\n",
       "      <th>0</th>\n",
       "      <td>0.0</td>\n",
       "      <td>1.0</td>\n",
       "      <td>0.5</td>\n",
       "      <td>1.0</td>\n",
       "      <td>0.5</td>\n",
       "      <td>1</td>\n",
       "      <td>0.0</td>\n",
       "      <td>0.0</td>\n",
       "      <td>1.0</td>\n",
       "      <td>0.5</td>\n",
       "      <td>...</td>\n",
       "      <td>0.5</td>\n",
       "      <td>0.5</td>\n",
       "      <td>1.0</td>\n",
       "      <td>0.5</td>\n",
       "      <td>1.0</td>\n",
       "      <td>0</td>\n",
       "      <td>0.5</td>\n",
       "      <td>0.5</td>\n",
       "      <td>1.0</td>\n",
       "      <td>0.5</td>\n",
       "    </tr>\n",
       "  </tbody>\n",
       "</table>\n",
       "<p>1 rows × 29 columns</p>\n",
       "</div>"
      ],
      "text/plain": [
       "   Oleoso  Seco  Misto  Feminino  Masculino  Indiferente  Controlar a queda  \\\n",
       "0     0.0   1.0    0.5       1.0        0.5            1                0.0   \n",
       "\n",
       "   Custo Premium  Custo Medio  Custo Acessivel  ...  Com alisamento  \\\n",
       "0            0.0          1.0              0.5  ...             0.5   \n",
       "\n",
       "   Cabelo preso o dia todo  Secador  Praia/Sol/Piscina  Chapinha  \\\n",
       "0                      0.5      1.0                0.5       1.0   \n",
       "\n",
       "   liberada para no poo  Com alisamento  Cabelo preso o dia todo  Secador  \\\n",
       "0                     0             0.5                      0.5      1.0   \n",
       "\n",
       "   Praia/Sol/Piscina  \n",
       "0                0.5  \n",
       "\n",
       "[1 rows x 29 columns]"
      ]
     },
     "execution_count": 21,
     "metadata": {},
     "output_type": "execute_result"
    }
   ],
   "source": [
    "df2.loc[[0],:]"
   ]
  },
  {
   "cell_type": "markdown",
   "metadata": {},
   "source": [
    "## pdist"
   ]
  },
  {
   "cell_type": "code",
   "execution_count": 22,
   "metadata": {
    "ExecuteTime": {
     "end_time": "2021-04-20T01:09:53.655136Z",
     "start_time": "2021-04-20T01:09:53.619094Z"
    }
   },
   "outputs": [],
   "source": [
    "comparacao=pd.DataFrame(squareform(pdist(df2,metric='euclidean')),columns=df_index,index=df_index)        "
   ]
  },
  {
   "cell_type": "code",
   "execution_count": 23,
   "metadata": {
    "ExecuteTime": {
     "end_time": "2021-04-20T01:09:56.511395Z",
     "start_time": "2021-04-20T01:09:56.475416Z"
    },
    "cell_style": "split"
   },
   "outputs": [
    {
     "data": {
      "text/plain": [
       "TEST TEST TEST                                  0.000000\n",
       "DOVE SH/CO/CP \\nOleo Nutrição                   0.000000\n",
       "DOVE SH/CO Óleo Micelar                         0.500000\n",
       "SEDA SH/CO/CP Oleo Hidratação                   0.707107\n",
       "TSM PERF SH/CO Hidratação Absoluta              1.224745\n",
       "                                                  ...   \n",
       "LBP CC Ylang Ylang                              3.162278\n",
       "Bed Head SH SECO Oh Bee Hive\\nShampoo a Seco    3.162278\n",
       "LBP CC Rosas                                    3.162278\n",
       "Bed Head CF Foxy Curls\\nMousse de Fixação       3.240370\n",
       "Bed Head CP On the Rebound\\nCreme de Pentear    3.316625\n",
       "Name: TEST TEST TEST, Length: 131, dtype: float64"
      ]
     },
     "execution_count": 23,
     "metadata": {},
     "output_type": "execute_result"
    }
   ],
   "source": [
    "comparacao.iloc[0,:].sort_values()"
   ]
  },
  {
   "cell_type": "markdown",
   "metadata": {},
   "source": [
    "## cdist"
   ]
  },
  {
   "cell_type": "code",
   "execution_count": 24,
   "metadata": {
    "ExecuteTime": {
     "end_time": "2021-04-20T01:10:00.825667Z",
     "start_time": "2021-04-20T01:10:00.786689Z"
    },
    "scrolled": true
   },
   "outputs": [
    {
     "data": {
      "text/html": [
       "<div>\n",
       "<style scoped>\n",
       "    .dataframe tbody tr th:only-of-type {\n",
       "        vertical-align: middle;\n",
       "    }\n",
       "\n",
       "    .dataframe tbody tr th {\n",
       "        vertical-align: top;\n",
       "    }\n",
       "\n",
       "    .dataframe thead th {\n",
       "        text-align: right;\n",
       "    }\n",
       "</style>\n",
       "<table border=\"1\" class=\"dataframe\">\n",
       "  <thead>\n",
       "    <tr style=\"text-align: right;\">\n",
       "      <th></th>\n",
       "      <th>0</th>\n",
       "    </tr>\n",
       "  </thead>\n",
       "  <tbody>\n",
       "    <tr>\n",
       "      <th>TEST TEST TEST</th>\n",
       "      <td>0.000000</td>\n",
       "    </tr>\n",
       "    <tr>\n",
       "      <th>DOVE SH/CO/CP Reconstrução Completa</th>\n",
       "      <td>1.732051</td>\n",
       "    </tr>\n",
       "    <tr>\n",
       "      <th>DOVE SH/CO Regeneração Extrema</th>\n",
       "      <td>1.732051</td>\n",
       "    </tr>\n",
       "    <tr>\n",
       "      <th>DOVE SH/CO/CP \\nOleo Nutrição</th>\n",
       "      <td>0.000000</td>\n",
       "    </tr>\n",
       "    <tr>\n",
       "      <th>DOVE SH/CO Queda Control</th>\n",
       "      <td>2.061553</td>\n",
       "    </tr>\n",
       "    <tr>\n",
       "      <th>...</th>\n",
       "      <td>...</td>\n",
       "    </tr>\n",
       "    <tr>\n",
       "      <th>Força Vitamina CF Brilho\\nCF</th>\n",
       "      <td>2.061553</td>\n",
       "    </tr>\n",
       "    <tr>\n",
       "      <th>Força Vitamina CF Fortificante\\nCF</th>\n",
       "      <td>2.061553</td>\n",
       "    </tr>\n",
       "    <tr>\n",
       "      <th>Força Vitamina CF Hidratante\\nCF</th>\n",
       "      <td>2.345208</td>\n",
       "    </tr>\n",
       "    <tr>\n",
       "      <th>Força Vitamina CF Nutritiva\\nCF</th>\n",
       "      <td>2.397916</td>\n",
       "    </tr>\n",
       "    <tr>\n",
       "      <th>Força Vitamina CF Regeneradora\\nCF</th>\n",
       "      <td>1.936492</td>\n",
       "    </tr>\n",
       "  </tbody>\n",
       "</table>\n",
       "<p>131 rows × 1 columns</p>\n",
       "</div>"
      ],
      "text/plain": [
       "                                            0\n",
       "TEST TEST TEST                       0.000000\n",
       "DOVE SH/CO/CP Reconstrução Completa  1.732051\n",
       "DOVE SH/CO Regeneração Extrema       1.732051\n",
       "DOVE SH/CO/CP \\nOleo Nutrição        0.000000\n",
       "DOVE SH/CO Queda Control             2.061553\n",
       "...                                       ...\n",
       "Força Vitamina CF Brilho\\nCF         2.061553\n",
       "Força Vitamina CF Fortificante\\nCF   2.061553\n",
       "Força Vitamina CF Hidratante\\nCF     2.345208\n",
       "Força Vitamina CF Nutritiva\\nCF      2.397916\n",
       "Força Vitamina CF Regeneradora\\nCF   1.936492\n",
       "\n",
       "[131 rows x 1 columns]"
      ]
     },
     "execution_count": 24,
     "metadata": {},
     "output_type": "execute_result"
    }
   ],
   "source": [
    "pd.DataFrame(cdist(df2.loc[[0],:],df2),columns=df_index).T"
   ]
  },
  {
   "cell_type": "markdown",
   "metadata": {},
   "source": [
    "# Usuário "
   ]
  },
  {
   "cell_type": "code",
   "execution_count": 27,
   "metadata": {
    "ExecuteTime": {
     "end_time": "2021-04-20T01:10:31.708182Z",
     "start_time": "2021-04-20T01:10:31.690211Z"
    }
   },
   "outputs": [
    {
     "data": {
      "text/plain": [
       "29"
      ]
     },
     "execution_count": 27,
     "metadata": {},
     "output_type": "execute_result"
    }
   ],
   "source": [
    "# os números vão sendo trocados conforme a escolha do usuário\n",
    "lista_usuario=[0,0,0,0,0,0,0,0,0,0,0,0,0,0,0,0,0,0,0,0,0,0,0,0,0,0,0,0,0]\n",
    "len(lista_usuario)"
   ]
  },
  {
   "cell_type": "code",
   "execution_count": 28,
   "metadata": {
    "ExecuteTime": {
     "end_time": "2021-04-20T01:10:32.520934Z",
     "start_time": "2021-04-20T01:10:32.508919Z"
    }
   },
   "outputs": [],
   "source": [
    "input_usuario=pd.DataFrame(lista_usuario,df2.columns)"
   ]
  },
  {
   "cell_type": "code",
   "execution_count": 29,
   "metadata": {
    "ExecuteTime": {
     "end_time": "2021-04-20T01:10:34.383220Z",
     "start_time": "2021-04-20T01:10:34.348238Z"
    },
    "scrolled": true
   },
   "outputs": [
    {
     "data": {
      "text/html": [
       "<div>\n",
       "<style scoped>\n",
       "    .dataframe tbody tr th:only-of-type {\n",
       "        vertical-align: middle;\n",
       "    }\n",
       "\n",
       "    .dataframe tbody tr th {\n",
       "        vertical-align: top;\n",
       "    }\n",
       "\n",
       "    .dataframe thead th {\n",
       "        text-align: right;\n",
       "    }\n",
       "</style>\n",
       "<table border=\"1\" class=\"dataframe\">\n",
       "  <thead>\n",
       "    <tr style=\"text-align: right;\">\n",
       "      <th></th>\n",
       "      <th>0</th>\n",
       "    </tr>\n",
       "  </thead>\n",
       "  <tbody>\n",
       "    <tr>\n",
       "      <th>TEST TEST TEST</th>\n",
       "      <td>3.240370</td>\n",
       "    </tr>\n",
       "    <tr>\n",
       "      <th>DOVE SH/CO/CP Reconstrução Completa</th>\n",
       "      <td>4.123106</td>\n",
       "    </tr>\n",
       "    <tr>\n",
       "      <th>DOVE SH/CO Regeneração Extrema</th>\n",
       "      <td>4.123106</td>\n",
       "    </tr>\n",
       "    <tr>\n",
       "      <th>DOVE SH/CO/CP \\nOleo Nutrição</th>\n",
       "      <td>3.240370</td>\n",
       "    </tr>\n",
       "    <tr>\n",
       "      <th>DOVE SH/CO Queda Control</th>\n",
       "      <td>3.640055</td>\n",
       "    </tr>\n",
       "    <tr>\n",
       "      <th>...</th>\n",
       "      <td>...</td>\n",
       "    </tr>\n",
       "    <tr>\n",
       "      <th>Força Vitamina CF Brilho\\nCF</th>\n",
       "      <td>3.500000</td>\n",
       "    </tr>\n",
       "    <tr>\n",
       "      <th>Força Vitamina CF Fortificante\\nCF</th>\n",
       "      <td>4.031129</td>\n",
       "    </tr>\n",
       "    <tr>\n",
       "      <th>Força Vitamina CF Hidratante\\nCF</th>\n",
       "      <td>3.535534</td>\n",
       "    </tr>\n",
       "    <tr>\n",
       "      <th>Força Vitamina CF Nutritiva\\nCF</th>\n",
       "      <td>3.840573</td>\n",
       "    </tr>\n",
       "    <tr>\n",
       "      <th>Força Vitamina CF Regeneradora\\nCF</th>\n",
       "      <td>3.840573</td>\n",
       "    </tr>\n",
       "  </tbody>\n",
       "</table>\n",
       "<p>131 rows × 1 columns</p>\n",
       "</div>"
      ],
      "text/plain": [
       "                                            0\n",
       "TEST TEST TEST                       3.240370\n",
       "DOVE SH/CO/CP Reconstrução Completa  4.123106\n",
       "DOVE SH/CO Regeneração Extrema       4.123106\n",
       "DOVE SH/CO/CP \\nOleo Nutrição        3.240370\n",
       "DOVE SH/CO Queda Control             3.640055\n",
       "...                                       ...\n",
       "Força Vitamina CF Brilho\\nCF         3.500000\n",
       "Força Vitamina CF Fortificante\\nCF   4.031129\n",
       "Força Vitamina CF Hidratante\\nCF     3.535534\n",
       "Força Vitamina CF Nutritiva\\nCF      3.840573\n",
       "Força Vitamina CF Regeneradora\\nCF   3.840573\n",
       "\n",
       "[131 rows x 1 columns]"
      ]
     },
     "execution_count": 29,
     "metadata": {},
     "output_type": "execute_result"
    }
   ],
   "source": [
    "filtro=pd.DataFrame(cdist(input_usuario.T,df2),columns=df_index).T\n",
    "filtro"
   ]
  },
  {
   "cell_type": "markdown",
   "metadata": {},
   "source": [
    "# Input usuario"
   ]
  },
  {
   "cell_type": "code",
   "execution_count": 24,
   "metadata": {
    "ExecuteTime": {
     "end_time": "2021-04-17T12:55:06.617327Z",
     "start_time": "2021-04-17T12:55:06.594339Z"
    }
   },
   "outputs": [],
   "source": [
    "def tipo_cabelo(tipo):\n",
    "    resposta = {}\n",
    "    tipo = int(input('Qual seu tipo de cabelo:\\n1)Oleoso 2)Seco 3)Misto\\n'))\n",
    "   \n",
    "    if tipo == 'Oleoso':\n",
    "        resposta['Oleoso']=[1]\n",
    "        resposta['Seco']=[0]\n",
    "        resposta['Misto']=[0]\n",
    "       \n",
    "    elif tipo == 'Seco':\n",
    "        resposta['Oleoso']=[0]\n",
    "        resposta['Seco']=[1]\n",
    "        resposta['Misto']=[0]\n",
    "        \n",
    "        \n",
    "    elif tipo == 'Misto':\n",
    "        resposta['Oleoso']=[0.5]\n",
    "        resposta['Seco']=[0.5]\n",
    "        resposta['Misto']=[1]\n",
    "        \n",
    "    \n",
    "    return resposta\n",
    "\n"
   ]
  },
  {
   "cell_type": "code",
   "execution_count": 25,
   "metadata": {
    "ExecuteTime": {
     "end_time": "2021-04-17T12:55:06.647308Z",
     "start_time": "2021-04-17T12:55:06.623326Z"
    }
   },
   "outputs": [],
   "source": [
    "def genero(genero):\n",
    "    resposta = {}\n",
    "    genero = int(input('Genero:\\n1)Feminino 2)Masculino 3)Indiferente\\n'))\n",
    "    \n",
    "    if genero == 'Feminino':\n",
    "        resposta['Feminino']=[1]\n",
    "        resposta['Masculino']=[0]\n",
    "        resposta['Indiferente']=[0]\n",
    "        \n",
    "    elif genero == 'Masculino':\n",
    "        resposta['Feminino']=[0]\n",
    "        resposta['Masculino']=[1]\n",
    "        resposta['Indiferente']=[0]\n",
    "        \n",
    "    elif genero == 'Indiferente':\n",
    "        resposta['Feminino']=[0]\n",
    "        resposta['Masculino']=[0]\n",
    "        resposta['Indiferente']=[1]\n",
    "        \n",
    "    \n",
    "    return resposta\n"
   ]
  },
  {
   "cell_type": "code",
   "execution_count": 26,
   "metadata": {
    "ExecuteTime": {
     "end_time": "2021-04-17T12:55:06.679290Z",
     "start_time": "2021-04-17T12:55:06.655304Z"
    }
   },
   "outputs": [],
   "source": [
    "def acao(acao):\n",
    "    resposta = {}\n",
    "    acao = int(input('Ação esperada:\\n1)Controlar a queda 2)Controlar o volume 3)Reduzir Frizz\\n'))\n",
    "    \n",
    "    if acao == 'Controlar a queda':\n",
    "        resposta['Controlar a queda']=[1]\n",
    "        resposta['Controlar o volume']=[0]\n",
    "        resposta['Controle de Caspa']=[0]\n",
    "        resposta['Definir cachos e crespos']=[0]\n",
    "        resposta['Reduzir Frizz']=[0]\n",
    "        \n",
    "    elif acao == 'Controlar o volume':\n",
    "        resposta['Controlar a queda']=[0]\n",
    "        resposta['Controlar o volume']=[1]\n",
    "        resposta['Controle de Caspa']=[0]\n",
    "        resposta['Definir cachos e crespos']=[0]\n",
    "        resposta['Reduzir Frizz']=[0]\n",
    "\n",
    "    elif acao == 'Controle de Caspa':\n",
    "        resposta['Controlar a queda']=[0]\n",
    "        resposta['Controlar o volume']=[0]\n",
    "        resposta['Controle de Caspa']=[1]\n",
    "        resposta['Definir cachos e crespos']=[0]\n",
    "        resposta['Reduzir Frizz']=[0]\n",
    "\n",
    "    elif acao == 'Definir cachos e crespos':\n",
    "        resposta['Controlar a queda']=[0]\n",
    "        resposta['Controlar o volume']=[0]\n",
    "        resposta['Controle de Caspa']=[0]\n",
    "        resposta['Definir cachos e crespos']=[1]\n",
    "        resposta['Reduzir Frizz']=[0]\n",
    "        \n",
    "    elif acao == 'Reduzir Frizz':\n",
    "        resposta['Controlar a queda']=[0]\n",
    "        resposta['Controlar o volume']=[0]\n",
    "        resposta['Controle de Caspa']=[0]\n",
    "        resposta['Definir cachos e crespos']=[0]\n",
    "        resposta['Reduzir Frizz']=[1]\n",
    "        \n",
    "    \n",
    "    return resposta\n"
   ]
  },
  {
   "cell_type": "code",
   "execution_count": 27,
   "metadata": {
    "ExecuteTime": {
     "end_time": "2021-04-17T12:55:06.726262Z",
     "start_time": "2021-04-17T12:55:06.683289Z"
    }
   },
   "outputs": [],
   "source": [
    "def preço(preço):\n",
    "    resposta = {}\n",
    "    preço = int(input('preço:\\n1)Custo Acessivel 2)Custo Medio 3)Custo Premium\\n'))\n",
    "    \n",
    "    if preço == 'Custo Acessivel':\n",
    "        resposta['Custo Acessivel']=[1]\n",
    "        resposta['Custo Medio']=[0]\n",
    "        resposta['Custo Premium']=[0]\n",
    "        \n",
    "    elif preço == 'Custo Medio':\n",
    "        resposta['Custo Acessivel']=[0]\n",
    "        resposta['Custo Medio']=[1]\n",
    "        resposta['Custo Premium']=[0]\n",
    "        \n",
    "    elif preço == 'Custo Premium':\n",
    "        resposta['Custo Acessivel']=[0]\n",
    "        resposta['Custo Medio']=[0]\n",
    "        resposta['Custo Premium']=[1]\n",
    "                \n",
    "    return resposta"
   ]
  },
  {
   "cell_type": "code",
   "execution_count": 28,
   "metadata": {
    "ExecuteTime": {
     "end_time": "2021-04-17T12:55:06.757246Z",
     "start_time": "2021-04-17T12:55:06.731262Z"
    }
   },
   "outputs": [],
   "source": [
    "def vegana(vegana):\n",
    "    resposta = {}\n",
    "    vegana = int(input('Vegana:\\n1)Sim 2)Não 3)Indiferente\\n'))\n",
    "    \n",
    "    if vegana == 'Sim':\n",
    "        resposta['vegana']=[1]\n",
    "               \n",
    "    elif vegana == 'Não':\n",
    "        resposta['vegana']=[0]\n",
    "    \n",
    "    elif vegana == 'Indiferente':\n",
    "        resposta['vegana']=[0.5]\n",
    "         \n",
    "    \n",
    "    return resposta"
   ]
  },
  {
   "cell_type": "code",
   "execution_count": 50,
   "metadata": {
    "ExecuteTime": {
     "end_time": "2021-04-17T13:00:35.767594Z",
     "start_time": "2021-04-17T13:00:14.507140Z"
    }
   },
   "outputs": [
    {
     "name": "stdout",
     "output_type": "stream",
     "text": [
      "Qual seu tipo de cabelo:\n",
      "1)Oleoso 2)Seco 3)Misto\n",
      "3\n",
      "Genero:\n",
      "1)Feminino 2)Masculino 3)Indiferente\n",
      "3\n",
      "Ação esperada:\n",
      "1)Controlar a queda 2)Controlar o volume 3)Reduzir Frizz\n",
      "2\n",
      "preço:\n",
      "1)Custo Acessivel 2)Custo Medio 3)Custo Premium\n",
      "1\n",
      "Vegana:\n",
      "1)Sim 2)Não 3)Indiferente\n",
      "3\n"
     ]
    }
   ],
   "source": [
    "usuario = tipo_cabelo()\n",
    "usuario.update(genero())\n",
    "usuario.update(acao())\n",
    "usuario.update(preço())\n",
    "usuario.update(vegana()) "
   ]
  },
  {
   "cell_type": "code",
   "execution_count": 52,
   "metadata": {
    "ExecuteTime": {
     "end_time": "2021-04-17T13:00:39.313174Z",
     "start_time": "2021-04-17T13:00:39.303176Z"
    }
   },
   "outputs": [
    {
     "data": {
      "text/plain": [
       "Index(['Olesoso', 'Seco', 'Misto', 'Feminino', 'Masculino', 'Indiferente',\n",
       "       'Controlar a queda', 'Custo Premium', 'Custo Medio', 'Custo Acessivel',\n",
       "       'vegana', 'Controlar o volume', 'Reduzir Frizz'],\n",
       "      dtype='object')"
      ]
     },
     "execution_count": 52,
     "metadata": {},
     "output_type": "execute_result"
    }
   ],
   "source": [
    "input_saida_usuario=pd.DataFrame(saida_usuario)"
   ]
  },
  {
   "cell_type": "code",
   "execution_count": 1,
   "metadata": {
    "ExecuteTime": {
     "end_time": "2021-04-24T14:28:38.629043Z",
     "start_time": "2021-04-24T14:28:38.332131Z"
    }
   },
   "outputs": [],
   "source": [
    "filtro = pd.DataFrame(cdist(input_saida_usuario,dataframe),columns=df_index).T.reset_index().rename(columns={'index':'nome',0:'distancia'})\n",
    "    \n",
    "    resultado=filtro.sort_values(by='distancia').head(3)[\"nome\"]\n",
    "    \n",
    "    resultado1=list(filtro.sort_values(by='distancia').head(3)[\"nome\"].values)"
   ]
  },
  {
   "cell_type": "code",
   "execution_count": 54,
   "metadata": {
    "ExecuteTime": {
     "end_time": "2021-04-17T13:00:42.381845Z",
     "start_time": "2021-04-17T13:00:42.338849Z"
    },
    "scrolled": true
   },
   "outputs": [
    {
     "data": {
      "text/html": [
       "<div>\n",
       "<style scoped>\n",
       "    .dataframe tbody tr th:only-of-type {\n",
       "        vertical-align: middle;\n",
       "    }\n",
       "\n",
       "    .dataframe tbody tr th {\n",
       "        vertical-align: top;\n",
       "    }\n",
       "\n",
       "    .dataframe thead th {\n",
       "        text-align: right;\n",
       "    }\n",
       "</style>\n",
       "<table border=\"1\" class=\"dataframe\">\n",
       "  <thead>\n",
       "    <tr style=\"text-align: right;\">\n",
       "      <th></th>\n",
       "      <th>0</th>\n",
       "    </tr>\n",
       "  </thead>\n",
       "  <tbody>\n",
       "    <tr>\n",
       "      <th>SUAVE SH/CO Óleo de Coco e  Abacate</th>\n",
       "      <td>1.500000</td>\n",
       "    </tr>\n",
       "    <tr>\n",
       "      <th>SUAVE SH/CO Mel e Óleo de Amêndoa</th>\n",
       "      <td>1.581139</td>\n",
       "    </tr>\n",
       "    <tr>\n",
       "      <th>SEDA SH/CO/CP \\nCeramidas</th>\n",
       "      <td>1.581139</td>\n",
       "    </tr>\n",
       "    <tr>\n",
       "      <th>SEDA SH/CO/CP Liso Perfeito</th>\n",
       "      <td>1.581139</td>\n",
       "    </tr>\n",
       "    <tr>\n",
       "      <th>SEDA CL/ CW Cr Limpeza\\nBoom Liberado - Co -Wash</th>\n",
       "      <td>1.658312</td>\n",
       "    </tr>\n",
       "    <tr>\n",
       "      <th>...</th>\n",
       "      <td>...</td>\n",
       "    </tr>\n",
       "    <tr>\n",
       "      <th>Força Vitamina SH/CO/CT Crespos</th>\n",
       "      <td>2.500000</td>\n",
       "    </tr>\n",
       "    <tr>\n",
       "      <th>Bed Head CF After Party\\nCreme Finalizador</th>\n",
       "      <td>2.500000</td>\n",
       "    </tr>\n",
       "    <tr>\n",
       "      <th>Força Vitamina SH/CO/CT Ondulados</th>\n",
       "      <td>2.500000</td>\n",
       "    </tr>\n",
       "    <tr>\n",
       "      <th>Força Vitamina CF Regeneradora\\nCF</th>\n",
       "      <td>2.500000</td>\n",
       "    </tr>\n",
       "    <tr>\n",
       "      <th>Bed Head CF Small Talk\\nCreme de Volume</th>\n",
       "      <td>2.645751</td>\n",
       "    </tr>\n",
       "  </tbody>\n",
       "</table>\n",
       "<p>131 rows × 1 columns</p>\n",
       "</div>"
      ],
      "text/plain": [
       "                                                         0\n",
       "SUAVE SH/CO Óleo de Coco e  Abacate               1.500000\n",
       "SUAVE SH/CO Mel e Óleo de Amêndoa                 1.581139\n",
       "SEDA SH/CO/CP \\nCeramidas                         1.581139\n",
       "SEDA SH/CO/CP Liso Perfeito                       1.581139\n",
       "SEDA CL/ CW Cr Limpeza\\nBoom Liberado - Co -Wash  1.658312\n",
       "...                                                    ...\n",
       "Força Vitamina SH/CO/CT Crespos                   2.500000\n",
       "Bed Head CF After Party\\nCreme Finalizador        2.500000\n",
       "Força Vitamina SH/CO/CT Ondulados                 2.500000\n",
       "Força Vitamina CF Regeneradora\\nCF                2.500000\n",
       "Bed Head CF Small Talk\\nCreme de Volume           2.645751\n",
       "\n",
       "[131 rows x 1 columns]"
      ]
     },
     "execution_count": 54,
     "metadata": {},
     "output_type": "execute_result"
    }
   ],
   "source": [
    "input_usuario=pd.DataFrame(usuario,index=[0])\n",
    "input_usuario=input_usuario[df2.columns] \n",
    "filtro=pd.DataFrame(cdist(input_usuario,df2),columns=df_index).T\n",
    "filtro.sort_values(by=0)"
   ]
  }
 ],
 "metadata": {
  "kernelspec": {
   "display_name": "Python 3",
   "language": "python",
   "name": "python3"
  },
  "language_info": {
   "codemirror_mode": {
    "name": "ipython",
    "version": 3
   },
   "file_extension": ".py",
   "mimetype": "text/x-python",
   "name": "python",
   "nbconvert_exporter": "python",
   "pygments_lexer": "ipython3",
   "version": "3.8.3"
  },
  "toc": {
   "base_numbering": 1,
   "nav_menu": {},
   "number_sections": true,
   "sideBar": true,
   "skip_h1_title": false,
   "title_cell": "Table of Contents",
   "title_sidebar": "Contents",
   "toc_cell": false,
   "toc_position": {
    "height": "calc(100% - 180px)",
    "left": "10px",
    "top": "150px",
    "width": "165px"
   },
   "toc_section_display": true,
   "toc_window_display": true
  },
  "varInspector": {
   "cols": {
    "lenName": 16,
    "lenType": 16,
    "lenVar": 40
   },
   "kernels_config": {
    "python": {
     "delete_cmd_postfix": "",
     "delete_cmd_prefix": "del ",
     "library": "var_list.py",
     "varRefreshCmd": "print(var_dic_list())"
    },
    "r": {
     "delete_cmd_postfix": ") ",
     "delete_cmd_prefix": "rm(",
     "library": "var_list.r",
     "varRefreshCmd": "cat(var_dic_list()) "
    }
   },
   "types_to_exclude": [
    "module",
    "function",
    "builtin_function_or_method",
    "instance",
    "_Feature"
   ],
   "window_display": false
  }
 },
 "nbformat": 4,
 "nbformat_minor": 4
}
